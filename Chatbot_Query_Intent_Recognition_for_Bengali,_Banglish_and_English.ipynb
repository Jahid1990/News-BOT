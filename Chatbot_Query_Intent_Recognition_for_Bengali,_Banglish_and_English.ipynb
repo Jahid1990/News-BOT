{
  "nbformat": 4,
  "nbformat_minor": 0,
  "metadata": {
    "accelerator": "GPU",
    "colab": {
      "name": "Chatbot Query Intent Recognition for Bengali, Banglish and English",
      "provenance": [],
      "collapsed_sections": [],
      "toc_visible": true,
      "mount_file_id": "1HCJGm1EmeP592ZZWS3KHYVhp1EjORwJq",
      "authorship_tag": "ABX9TyObE3W0XPdM1+DURFvpSrLT",
      "include_colab_link": true
    },
    "kernelspec": {
      "display_name": "Python 3",
      "name": "python3"
    }
  },
  "cells": [
    {
      "cell_type": "markdown",
      "metadata": {
        "id": "view-in-github",
        "colab_type": "text"
      },
      "source": [
        "<a href=\"https://colab.research.google.com/github/Jahid1990/News-BOT/blob/main/Chatbot_Query_Intent_Recognition_for_Bengali%2C_Banglish_and_English.ipynb\" target=\"_parent\"><img src=\"https://colab.research.google.com/assets/colab-badge.svg\" alt=\"Open In Colab\"/></a>"
      ]
    },
    {
      "cell_type": "markdown",
      "metadata": {
        "id": "q3JQQzjaV2kq"
      },
      "source": [
        "# Libraries"
      ]
    },
    {
      "cell_type": "code",
      "metadata": {
        "id": "w4QLF21nLfIk"
      },
      "source": [
        "# !pip install bnlp_toolkit\r\n",
        "import numpy as np # linear algebra\r\n",
        "import pandas as pd \r\n",
        "from sklearn.feature_extraction.text import CountVectorizer\r\n",
        "from keras.preprocessing.text import Tokenizer\r\n",
        "from keras.preprocessing.sequence import pad_sequences\r\n",
        "from tensorflow.keras.callbacks import ModelCheckpoint\r\n",
        "from keras.models import Sequential\r\n",
        "from keras.layers import Dense, Embedding, LSTM, SpatialDropout1D\r\n",
        "from sklearn.model_selection import train_test_split\r\n",
        "from keras.utils.np_utils import to_categorical\r\n",
        "import re\r\n",
        "pd.set_option(\"display.max_rows\", 50000, \"display.max_columns\", 500)"
      ],
      "execution_count": 1,
      "outputs": []
    },
    {
      "cell_type": "markdown",
      "metadata": {
        "id": "YJ86R54N5bMN"
      },
      "source": [
        "# Data Load and visualization"
      ]
    },
    {
      "cell_type": "code",
      "metadata": {
        "colab": {
          "base_uri": "https://localhost:8080/",
          "height": 200
        },
        "id": "LxWMhFB-Friy",
        "outputId": "0ac86e25-714b-4504-ba78-cae59d20b1c0"
      },
      "source": [
        "data=pd.read_csv(\"/content/drive/MyDrive/to_english.csv\")\r\n",
        "data=data.iloc[:,2:]\r\n",
        "data.columns=[\"Intent\",\"Text\"]\r\n",
        "data.head()"
      ],
      "execution_count": 24,
      "outputs": [
        {
          "output_type": "execute_result",
          "data": {
            "text/html": [
              "<div>\n",
              "<style scoped>\n",
              "    .dataframe tbody tr th:only-of-type {\n",
              "        vertical-align: middle;\n",
              "    }\n",
              "\n",
              "    .dataframe tbody tr th {\n",
              "        vertical-align: top;\n",
              "    }\n",
              "\n",
              "    .dataframe thead th {\n",
              "        text-align: right;\n",
              "    }\n",
              "</style>\n",
              "<table border=\"1\" class=\"dataframe\">\n",
              "  <thead>\n",
              "    <tr style=\"text-align: right;\">\n",
              "      <th></th>\n",
              "      <th>Intent</th>\n",
              "      <th>Text</th>\n",
              "    </tr>\n",
              "  </thead>\n",
              "  <tbody>\n",
              "    <tr>\n",
              "      <th>0</th>\n",
              "      <td>checkavailablebalanceand validity</td>\n",
              "      <td>How much money is in my account?</td>\n",
              "    </tr>\n",
              "    <tr>\n",
              "      <th>1</th>\n",
              "      <td>checkavailablebalanceand validity</td>\n",
              "      <td>How do I view the account balance?</td>\n",
              "    </tr>\n",
              "    <tr>\n",
              "      <th>2</th>\n",
              "      <td>checkavailablebalanceand validity</td>\n",
              "      <td>How much money do I have in balance?</td>\n",
              "    </tr>\n",
              "    <tr>\n",
              "      <th>3</th>\n",
              "      <td>checkavailablebalanceand validity</td>\n",
              "      <td>How much money do I have?</td>\n",
              "    </tr>\n",
              "    <tr>\n",
              "      <th>4</th>\n",
              "      <td>checkavailablebalanceand validity</td>\n",
              "      <td>Account is the balance ball</td>\n",
              "    </tr>\n",
              "  </tbody>\n",
              "</table>\n",
              "</div>"
            ],
            "text/plain": [
              "                              Intent                                   Text\n",
              "0  checkavailablebalanceand validity      How much money is in my account? \n",
              "1  checkavailablebalanceand validity    How do I view the account balance? \n",
              "2  checkavailablebalanceand validity  How much money do I have in balance? \n",
              "3  checkavailablebalanceand validity             How much money do I have? \n",
              "4  checkavailablebalanceand validity           Account is the balance ball "
            ]
          },
          "metadata": {
            "tags": []
          },
          "execution_count": 24
        }
      ]
    },
    {
      "cell_type": "markdown",
      "metadata": {
        "id": "PxhYBrq-5syi"
      },
      "source": [
        "# Frequency Distribution of pre defined Query Intents"
      ]
    },
    {
      "cell_type": "code",
      "metadata": {
        "colab": {
          "base_uri": "https://localhost:8080/"
        },
        "id": "3B0nJlpx5jvS",
        "outputId": "92d92feb-3a4b-4307-e124-aa674e1d39e6"
      },
      "source": [
        "data.Intent.value_counts()/data.shape[0]*100"
      ],
      "execution_count": 35,
      "outputs": [
        {
          "output_type": "execute_result",
          "data": {
            "text/plain": [
              "CheckSocialDataofferinfo                       30.631240\n",
              "Checkdatapackinfo                              28.270999\n",
              "checkemergencybalance&creditlimit               4.729509\n",
              "checkfnf&superfnfstatus                         4.602020\n",
              "checkcurrentdatapackagestatus                   4.146218\n",
              "checkdatabalanceand validity                    2.097366\n",
              "checktalktimeandvalidity                        1.774694\n",
              "checklastrechargeamount&date                    1.659615\n",
              "checkavailablebalanceand validity               1.473459\n",
              "checksmsbalanceandvalidity                      1.454279\n",
              "checkpostpaidcurrent&totaldue                   1.392227\n",
              "checkstarstatusandvalidity                      1.391098\n",
              "simpinandpuknumber                              1.278276\n",
              "checkbillingaddress                             1.262481\n",
              "Checkpostpaidbillcycle                          1.054888\n",
              "checkcurrentpackagestatus                       0.955604\n",
              "Checkpostpaidtotal&availablecreditlimit         0.863090\n",
              "Checkpostaiddueamountinlastinvoice              0.737858\n",
              "MicroDataOfferInfo                              0.700626\n",
              "CheckSMSofferinfo                               0.700626\n",
              "MicroVoiceOfferInfo                             0.700626\n",
              "Checkpostpaidadvancepayment                     0.690472\n",
              "checkpostpaidlastrechargeamountpayment&date     0.687087\n",
              "Checkpostpaidebillstatus&info                   0.687087\n",
              "Checkdatapackageactivation                      0.676933\n",
              "Checkbundleoffereligibility                     0.676933\n",
              "CheckVoiceoffereligibility                      0.676933\n",
              "Checkmicrodataofferactivation                   0.676933\n",
              "MicroDataoffercancellation                      0.676933\n",
              "Checkmicrodataoffereligibility                  0.676933\n",
              "Checkpostpaidlastpaidamountanddate              0.676933\n",
              "Checkbundlecancellation                         0.675805\n",
              "checkfirstactivationdate                        0.644215\n",
              "Name: Intent, dtype: float64"
            ]
          },
          "metadata": {
            "tags": []
          },
          "execution_count": 35
        }
      ]
    },
    {
      "cell_type": "markdown",
      "metadata": {
        "id": "ci4iHm75W9tI"
      },
      "source": [
        "# Text Processsing"
      ]
    },
    {
      "cell_type": "markdown",
      "metadata": {
        "id": "YQsgdFnloJIA"
      },
      "source": [
        "# Learning\r\n",
        "1. translation would be helpful for larger text documents\r\n",
        "2. charac level and world level giving similar results\r\n",
        "3. original/mixed texts working better than translated ones"
      ]
    },
    {
      "cell_type": "markdown",
      "metadata": {
        "id": "7NrmTQ1gYRRY"
      },
      "source": [
        "# Train test split and text processing"
      ]
    },
    {
      "cell_type": "code",
      "metadata": {
        "id": "9yhU1ykaYeP4",
        "colab": {
          "base_uri": "https://localhost:8080/"
        },
        "outputId": "85376e77-41f9-42dd-8775-5963b6415dd8"
      },
      "source": [
        "X_train, X_test, Y_train, Y_test = train_test_split(data.Text,data.Intent, test_size = 0.40, random_state = 42)\r\n",
        "print(X_train.shape,Y_train.shape)\r\n",
        "print(X_test.shape,Y_test.shape)"
      ],
      "execution_count": 25,
      "outputs": [
        {
          "output_type": "stream",
          "text": [
            "(53181,) (53181,)\n",
            "(35454,) (35454,)\n"
          ],
          "name": "stdout"
        }
      ]
    },
    {
      "cell_type": "code",
      "metadata": {
        "id": "oJF9ngVAEKtZ"
      },
      "source": [
        "max_fatures =2000\r\n",
        "tokenizer = Tokenizer(num_words=max_fatures, split=' ')\r\n",
        "tokenizer.fit_on_texts(data.Text)\r\n",
        "#tokenizer.index_word=dict(pd.Series(tokenizer.index_word.values())[~pd.Series(tokenizer.index_word.values()).isin(stop_words)])\r\n",
        "X_train = tokenizer.texts_to_sequences(X_train)\r\n",
        "X_train = pad_sequences(X_train,padding='post')"
      ],
      "execution_count": 26,
      "outputs": []
    },
    {
      "cell_type": "code",
      "metadata": {
        "id": "uYcgcHcuqaAZ"
      },
      "source": [
        "X_test = tokenizer.texts_to_sequences(X_test)\r\n",
        "X_test = pad_sequences(X_test,padding='post',maxlen=23)"
      ],
      "execution_count": 27,
      "outputs": []
    },
    {
      "cell_type": "code",
      "metadata": {
        "colab": {
          "base_uri": "https://localhost:8080/"
        },
        "id": "Oc8q9tNRIOQz",
        "outputId": "3b43e940-21b5-46cf-d296-8cba47cedf08"
      },
      "source": [
        "#Y = pd.get_dummies(data['Intent'],prefix_sep='a')\r\n",
        "#X_train, X_test, Y_train, Y_test = train_test_split(X,Y, test_size = 0.33, random_state = 42)\r\n",
        "Y_train= pd.get_dummies(Y_train,prefix_sep='a')\r\n",
        "Y_test= pd.get_dummies(Y_test,prefix_sep='a')\r\n",
        "print(X_train.shape,Y_train.shape)\r\n",
        "print(X_test.shape,Y_test.shape)"
      ],
      "execution_count": 28,
      "outputs": [
        {
          "output_type": "stream",
          "text": [
            "(53181, 23) (53181, 33)\n",
            "(35454, 23) (35454, 33)\n"
          ],
          "name": "stdout"
        }
      ]
    },
    {
      "cell_type": "markdown",
      "metadata": {
        "id": "P8dlF8oK6K5j"
      },
      "source": [
        "# Model Architecture"
      ]
    },
    {
      "cell_type": "code",
      "metadata": {
        "colab": {
          "base_uri": "https://localhost:8080/"
        },
        "id": "tkM0MxfYIzYY",
        "outputId": "e6589195-c698-4ae8-cc47-c24b0b076577"
      },
      "source": [
        "embed_dim = 196\r\n",
        "lstm_out = 200\r\n",
        "\r\n",
        "model = Sequential()\r\n",
        "model.add(Embedding(max_fatures, embed_dim, input_length = X_train.shape[1]))\r\n",
        "model.add(SpatialDropout1D(0.4))\r\n",
        "model.add(LSTM(lstm_out, dropout=0.2, return_sequences=True))\r\n",
        "model.add(LSTM(lstm_out, dropout=0.2, return_sequences=True))\r\n",
        "model.add(LSTM(lstm_out, dropout=0.2))\r\n",
        "model.add(tf.keras.layers.Flatten())\r\n",
        "model.add(Dense(512,input_shape=(23,),activation='relu'))\r\n",
        "model.add(Dense(Y_train.shape[1],activation='softmax'))\r\n",
        "model.compile(loss = 'categorical_crossentropy', optimizer='adam',metrics = ['accuracy'])\r\n",
        "print(model.summary())"
      ],
      "execution_count": 36,
      "outputs": [
        {
          "output_type": "stream",
          "text": [
            "Model: \"sequential_8\"\n",
            "_________________________________________________________________\n",
            "Layer (type)                 Output Shape              Param #   \n",
            "=================================================================\n",
            "embedding_4 (Embedding)      (None, 23, 196)           392000    \n",
            "_________________________________________________________________\n",
            "spatial_dropout1d_1 (Spatial (None, 23, 196)           0         \n",
            "_________________________________________________________________\n",
            "lstm_3 (LSTM)                (None, 23, 200)           317600    \n",
            "_________________________________________________________________\n",
            "lstm_4 (LSTM)                (None, 23, 200)           320800    \n",
            "_________________________________________________________________\n",
            "lstm_5 (LSTM)                (None, 200)               320800    \n",
            "_________________________________________________________________\n",
            "flatten_2 (Flatten)          (None, 200)               0         \n",
            "_________________________________________________________________\n",
            "dense_12 (Dense)             (None, 512)               102912    \n",
            "_________________________________________________________________\n",
            "dense_13 (Dense)             (None, 33)                16929     \n",
            "=================================================================\n",
            "Total params: 1,471,041\n",
            "Trainable params: 1,471,041\n",
            "Non-trainable params: 0\n",
            "_________________________________________________________________\n",
            "None\n"
          ],
          "name": "stdout"
        }
      ]
    },
    {
      "cell_type": "code",
      "metadata": {
        "id": "fu0XkI0qJEpU"
      },
      "source": [
        "import tensorflow as tf\r\n",
        "learn_rate = 0.001\r\n",
        "optim = tf.keras.optimizers.Adam(lr=learn_rate, decay=1e-5)\r\n",
        "#checkpointer = ModelCheckpoint(filepath='/content/drive/MyDrive/gp_chatbot.h5', verbose=1, save_best_only=True)\r\n",
        "model.compile(loss='categorical_crossentropy', optimizer=optim, metrics=['accuracy'])"
      ],
      "execution_count": 37,
      "outputs": []
    },
    {
      "cell_type": "code",
      "metadata": {
        "colab": {
          "base_uri": "https://localhost:8080/"
        },
        "id": "GiGjCF0ydchv",
        "outputId": "06a5d2cb-6427-4292-8842-483c27bc7156"
      },
      "source": [
        "batch_size = 512\r\n",
        "learn_rate = 0.0001\r\n",
        "optim = tf.keras.optimizers.Adam(lr=learn_rate, decay=1e-5)\r\n",
        "model.fit(X_train, Y_train, epochs = 50, batch_size=batch_size,validation_split=.2, verbose = 1)"
      ],
      "execution_count": 38,
      "outputs": [
        {
          "output_type": "stream",
          "text": [
            "Epoch 1/50\n",
            "84/84 [==============================] - 10s 79ms/step - loss: 2.3672 - accuracy: 0.3254 - val_loss: 1.3755 - val_accuracy: 0.6310\n",
            "Epoch 2/50\n",
            "84/84 [==============================] - 4s 44ms/step - loss: 1.1089 - accuracy: 0.6689 - val_loss: 0.5651 - val_accuracy: 0.8106\n",
            "Epoch 3/50\n",
            "84/84 [==============================] - 4s 44ms/step - loss: 0.5699 - accuracy: 0.8015 - val_loss: 0.4400 - val_accuracy: 0.8475\n",
            "Epoch 4/50\n",
            "84/84 [==============================] - 4s 46ms/step - loss: 0.4119 - accuracy: 0.8599 - val_loss: 0.2931 - val_accuracy: 0.9055\n",
            "Epoch 5/50\n",
            "84/84 [==============================] - 4s 44ms/step - loss: 0.2982 - accuracy: 0.9006 - val_loss: 0.2913 - val_accuracy: 0.9008\n",
            "Epoch 6/50\n",
            "84/84 [==============================] - 4s 44ms/step - loss: 0.2724 - accuracy: 0.9089 - val_loss: 0.2406 - val_accuracy: 0.9199\n",
            "Epoch 7/50\n",
            "84/84 [==============================] - 4s 44ms/step - loss: 0.2462 - accuracy: 0.9189 - val_loss: 0.2093 - val_accuracy: 0.9306\n",
            "Epoch 8/50\n",
            "84/84 [==============================] - 4s 44ms/step - loss: 0.2113 - accuracy: 0.9297 - val_loss: 0.2015 - val_accuracy: 0.9348\n",
            "Epoch 9/50\n",
            "84/84 [==============================] - 4s 45ms/step - loss: 0.1890 - accuracy: 0.9368 - val_loss: 0.2086 - val_accuracy: 0.9288\n",
            "Epoch 10/50\n",
            "84/84 [==============================] - 4s 44ms/step - loss: 0.1876 - accuracy: 0.9351 - val_loss: 0.1881 - val_accuracy: 0.9341\n",
            "Epoch 11/50\n",
            "84/84 [==============================] - 4s 44ms/step - loss: 0.1827 - accuracy: 0.9394 - val_loss: 0.1892 - val_accuracy: 0.9351\n",
            "Epoch 12/50\n",
            "84/84 [==============================] - 4s 45ms/step - loss: 0.1859 - accuracy: 0.9394 - val_loss: 0.1793 - val_accuracy: 0.9407\n",
            "Epoch 13/50\n",
            "84/84 [==============================] - 4s 44ms/step - loss: 0.1535 - accuracy: 0.9475 - val_loss: 0.1705 - val_accuracy: 0.9413\n",
            "Epoch 14/50\n",
            "84/84 [==============================] - 4s 45ms/step - loss: 0.1511 - accuracy: 0.9469 - val_loss: 0.1648 - val_accuracy: 0.9458\n",
            "Epoch 15/50\n",
            "84/84 [==============================] - 4s 45ms/step - loss: 0.1442 - accuracy: 0.9492 - val_loss: 0.1684 - val_accuracy: 0.9421\n",
            "Epoch 16/50\n",
            "84/84 [==============================] - 4s 45ms/step - loss: 0.1402 - accuracy: 0.9493 - val_loss: 0.1615 - val_accuracy: 0.9444\n",
            "Epoch 17/50\n",
            "84/84 [==============================] - 4s 45ms/step - loss: 0.1500 - accuracy: 0.9479 - val_loss: 0.1546 - val_accuracy: 0.9458\n",
            "Epoch 18/50\n",
            "84/84 [==============================] - 4s 45ms/step - loss: 0.1309 - accuracy: 0.9535 - val_loss: 0.1519 - val_accuracy: 0.9490\n",
            "Epoch 19/50\n",
            "84/84 [==============================] - 4s 45ms/step - loss: 0.1312 - accuracy: 0.9537 - val_loss: 0.1463 - val_accuracy: 0.9482\n",
            "Epoch 20/50\n",
            "84/84 [==============================] - 4s 46ms/step - loss: 0.1280 - accuracy: 0.9548 - val_loss: 0.1523 - val_accuracy: 0.9495\n",
            "Epoch 21/50\n",
            "84/84 [==============================] - 4s 46ms/step - loss: 0.1362 - accuracy: 0.9517 - val_loss: 0.1444 - val_accuracy: 0.9515\n",
            "Epoch 22/50\n",
            "84/84 [==============================] - 4s 46ms/step - loss: 0.1210 - accuracy: 0.9560 - val_loss: 0.1541 - val_accuracy: 0.9450\n",
            "Epoch 23/50\n",
            "84/84 [==============================] - 4s 46ms/step - loss: 0.1248 - accuracy: 0.9541 - val_loss: 0.1382 - val_accuracy: 0.9550\n",
            "Epoch 24/50\n",
            "84/84 [==============================] - 4s 46ms/step - loss: 0.1160 - accuracy: 0.9578 - val_loss: 0.1549 - val_accuracy: 0.9469\n",
            "Epoch 25/50\n",
            "84/84 [==============================] - 4s 46ms/step - loss: 0.1230 - accuracy: 0.9552 - val_loss: 0.1503 - val_accuracy: 0.9518\n",
            "Epoch 26/50\n",
            "84/84 [==============================] - 4s 46ms/step - loss: 0.1246 - accuracy: 0.9550 - val_loss: 0.1403 - val_accuracy: 0.9491\n",
            "Epoch 27/50\n",
            "84/84 [==============================] - 4s 46ms/step - loss: 0.1209 - accuracy: 0.9560 - val_loss: 0.1508 - val_accuracy: 0.9486\n",
            "Epoch 28/50\n",
            "84/84 [==============================] - 4s 46ms/step - loss: 0.1173 - accuracy: 0.9571 - val_loss: 0.1446 - val_accuracy: 0.9488\n",
            "Epoch 29/50\n",
            "84/84 [==============================] - 4s 46ms/step - loss: 0.1139 - accuracy: 0.9593 - val_loss: 0.1510 - val_accuracy: 0.9457\n",
            "Epoch 30/50\n",
            "84/84 [==============================] - 4s 47ms/step - loss: 0.1144 - accuracy: 0.9570 - val_loss: 0.1407 - val_accuracy: 0.9502\n",
            "Epoch 31/50\n",
            "84/84 [==============================] - 4s 47ms/step - loss: 0.1134 - accuracy: 0.9577 - val_loss: 0.1426 - val_accuracy: 0.9530\n",
            "Epoch 32/50\n",
            "84/84 [==============================] - 4s 47ms/step - loss: 0.1033 - accuracy: 0.9606 - val_loss: 0.1445 - val_accuracy: 0.9535\n",
            "Epoch 33/50\n",
            "84/84 [==============================] - 4s 47ms/step - loss: 0.1084 - accuracy: 0.9602 - val_loss: 0.1376 - val_accuracy: 0.9548\n",
            "Epoch 34/50\n",
            "84/84 [==============================] - 4s 47ms/step - loss: 0.1026 - accuracy: 0.9612 - val_loss: 0.1364 - val_accuracy: 0.9518\n",
            "Epoch 35/50\n",
            "84/84 [==============================] - 4s 47ms/step - loss: 0.1091 - accuracy: 0.9600 - val_loss: 0.1340 - val_accuracy: 0.9524\n",
            "Epoch 36/50\n",
            "84/84 [==============================] - 4s 47ms/step - loss: 0.1069 - accuracy: 0.9595 - val_loss: 0.1309 - val_accuracy: 0.9536\n",
            "Epoch 37/50\n",
            "84/84 [==============================] - 4s 46ms/step - loss: 0.0998 - accuracy: 0.9619 - val_loss: 0.1418 - val_accuracy: 0.9547\n",
            "Epoch 38/50\n",
            "84/84 [==============================] - 4s 46ms/step - loss: 0.0978 - accuracy: 0.9634 - val_loss: 0.1388 - val_accuracy: 0.9520\n",
            "Epoch 39/50\n",
            "84/84 [==============================] - 4s 47ms/step - loss: 0.0988 - accuracy: 0.9638 - val_loss: 0.1404 - val_accuracy: 0.9505\n",
            "Epoch 40/50\n",
            "84/84 [==============================] - 4s 47ms/step - loss: 0.1012 - accuracy: 0.9620 - val_loss: 0.1415 - val_accuracy: 0.9514\n",
            "Epoch 41/50\n",
            "84/84 [==============================] - 4s 46ms/step - loss: 0.1020 - accuracy: 0.9610 - val_loss: 0.1363 - val_accuracy: 0.9568\n",
            "Epoch 42/50\n",
            "84/84 [==============================] - 4s 46ms/step - loss: 0.0991 - accuracy: 0.9626 - val_loss: 0.1424 - val_accuracy: 0.9516\n",
            "Epoch 43/50\n",
            "84/84 [==============================] - 4s 46ms/step - loss: 0.0939 - accuracy: 0.9633 - val_loss: 0.1447 - val_accuracy: 0.9551\n",
            "Epoch 44/50\n",
            "84/84 [==============================] - 4s 46ms/step - loss: 0.1072 - accuracy: 0.9605 - val_loss: 0.1434 - val_accuracy: 0.9561\n",
            "Epoch 45/50\n",
            "84/84 [==============================] - 4s 46ms/step - loss: 0.0952 - accuracy: 0.9629 - val_loss: 0.1394 - val_accuracy: 0.9524\n",
            "Epoch 46/50\n",
            "84/84 [==============================] - 4s 46ms/step - loss: 0.0904 - accuracy: 0.9640 - val_loss: 0.1459 - val_accuracy: 0.9537\n",
            "Epoch 47/50\n",
            "84/84 [==============================] - 4s 46ms/step - loss: 0.0912 - accuracy: 0.9642 - val_loss: 0.1409 - val_accuracy: 0.9524\n",
            "Epoch 48/50\n",
            "84/84 [==============================] - 4s 46ms/step - loss: 0.0969 - accuracy: 0.9623 - val_loss: 0.1412 - val_accuracy: 0.9557\n",
            "Epoch 49/50\n",
            "84/84 [==============================] - 4s 46ms/step - loss: 0.0925 - accuracy: 0.9643 - val_loss: 0.1371 - val_accuracy: 0.9538\n",
            "Epoch 50/50\n",
            "84/84 [==============================] - 4s 47ms/step - loss: 0.1000 - accuracy: 0.9628 - val_loss: 0.1466 - val_accuracy: 0.9520\n"
          ],
          "name": "stdout"
        },
        {
          "output_type": "execute_result",
          "data": {
            "text/plain": [
              "<tensorflow.python.keras.callbacks.History at 0x7f72e0197518>"
            ]
          },
          "metadata": {
            "tags": []
          },
          "execution_count": 38
        }
      ]
    },
    {
      "cell_type": "markdown",
      "metadata": {
        "id": "OIwAdoVW2Kac"
      },
      "source": [
        "#Evaluation"
      ]
    },
    {
      "cell_type": "code",
      "metadata": {
        "colab": {
          "base_uri": "https://localhost:8080/"
        },
        "id": "cc7CiOLIKP-K",
        "outputId": "f10e67a2-16a3-4f17-fc22-ebf290b78c2a"
      },
      "source": [
        "from sklearn.metrics import classification_report\r\n",
        "import tensorflow as tf\r\n",
        "#model=tf.keras.models.load_model('/content/drive/MyDrive/gp_chatbot.h5')\r\n",
        "pred=model.predict(X_test)                                                                                                                                                                          \r\n",
        "pred=np.argmax(pred,axis=1)\r\n",
        "act=np.argmax(Y_test.to_numpy(),axis=1)\r\n",
        "print(classification_report(pred, act))"
      ],
      "execution_count": 39,
      "outputs": [
        {
          "output_type": "stream",
          "text": [
            "              precision    recall  f1-score   support\n",
            "\n",
            "           0       0.90      0.92      0.91       245\n",
            "           1       1.00      0.93      0.96     11713\n",
            "           2       0.94      0.98      0.96       242\n",
            "           3       0.95      1.00      0.97       242\n",
            "           4       0.98      0.95      0.96       244\n",
            "           5       0.94      0.99      0.96       215\n",
            "           6       0.93      0.99      0.96      9493\n",
            "           7       0.93      0.99      0.96       257\n",
            "           8       0.94      0.96      0.95       239\n",
            "           9       0.93      0.91      0.92       263\n",
            "          10       0.89      1.00      0.94       223\n",
            "          11       0.98      0.91      0.94       387\n",
            "          12       0.94      0.95      0.94       239\n",
            "          13       0.94      0.81      0.87       308\n",
            "          14       0.98      0.99      0.98       274\n",
            "          15       0.85      0.89      0.87       228\n",
            "          16       0.97      0.89      0.93       260\n",
            "          17       0.90      0.96      0.93       241\n",
            "          18       0.92      0.84      0.88       575\n",
            "          19       0.98      0.99      0.99       428\n",
            "          20       0.96      0.96      0.96      1438\n",
            "          21       0.92      0.90      0.91       319\n",
            "          22       0.95      0.97      0.96       730\n",
            "          23       0.98      1.00      0.99      1638\n",
            "          24       0.92      0.90      0.91       228\n",
            "          25       0.96      1.00      0.98      1548\n",
            "          26       0.93      0.88      0.91       588\n",
            "          27       0.86      0.93      0.89       461\n",
            "          28       0.56      0.87      0.68       161\n",
            "          29       0.93      0.95      0.94       496\n",
            "          30       0.95      0.92      0.93       524\n",
            "          31       0.95      0.97      0.96       586\n",
            "          32       0.95      0.98      0.96       421\n",
            "\n",
            "    accuracy                           0.96     35454\n",
            "   macro avg       0.93      0.94      0.93     35454\n",
            "weighted avg       0.96      0.96      0.96     35454\n",
            "\n"
          ],
          "name": "stdout"
        }
      ]
    },
    {
      "cell_type": "code",
      "metadata": {
        "id": "dSYFSaveIUOG"
      },
      "source": [
        "# data[\"PRED\"]=Y_test.columns[pd.DataFrame(pred).idxmax(axis=1)]\r\n",
        "# data[\"PRED_ACC\"]=np.where(Y_test.Intent==data.PRED,1,0)\r\n",
        "# data[\"PRED_ACC\"].value_counts()/data.shape[0]*100\r\n",
        "# data"
      ],
      "execution_count": 41,
      "outputs": []
    },
    {
      "cell_type": "code",
      "metadata": {
        "colab": {
          "base_uri": "https://localhost:8080/"
        },
        "id": "sZ2DL3mhB-no",
        "outputId": "051b8cb2-935e-4314-b874-c3b4894ca7d7"
      },
      "source": [
        "data.PRED_ACC.value_counts()/data.shape[0]*100"
      ],
      "execution_count": null,
      "outputs": [
        {
          "output_type": "execute_result",
          "data": {
            "text/plain": [
              "0    99.299374\n",
              "1     0.700626\n",
              "Name: PRED_ACC, dtype: float64"
            ]
          },
          "metadata": {
            "tags": []
          },
          "execution_count": 83
        }
      ]
    },
    {
      "cell_type": "code",
      "metadata": {
        "id": "Wv7b-7uISWF-"
      },
      "source": [
        "test=['Taka kata acha acaunte',\r\n",
        "'Balns kivabe deke',\r\n",
        "'bortomane amar SIM er balance kata',\r\n",
        "'koto ache sir balance e',\r\n",
        "'ami r koto khoroch korte parbo',\r\n",
        "'jana jabe ki koto ache',\r\n",
        "'কল যাচ্ছে না কেন?',\r\n",
        "'দেখবো কিভাবে কত আছে একাউন্টে?',\r\n",
        "'একটু আমার বেলেন্স চেক করে বলেন কত আছে?',\r\n",
        "'আমার এই নাম্বারে কত আছে দেখে বলেন তো']"
      ],
      "execution_count": 42,
      "outputs": []
    },
    {
      "cell_type": "code",
      "metadata": {
        "colab": {
          "base_uri": "https://localhost:8080/"
        },
        "id": "vhOTvD6YKptb",
        "outputId": "2111b0b6-5f7d-4638-a9d0-eeaa0dfbd2eb"
      },
      "source": [
        "!pip install google_trans_new\r\n",
        "from google_trans_new import google_translator  \r\n",
        "translator = google_translator()  \r\n",
        "twt='amer koto ase'\r\n",
        "#twt=translator.translate(twt,lang_tgt='en')\r\n",
        "twt=[twt]\r\n",
        "\r\n",
        "#vectorizing\r\n",
        "twt = tokenizer.texts_to_sequences(test)\r\n",
        "# #padding\r\n",
        "twt = pad_sequences(twt,padding='post',maxlen=23,value=0.0,dtype='int32')\r\n",
        "sentiment = model.predict(twt)\r\n",
        "print(Y_test.columns[pd.DataFrame(sentiment).idxmax(axis=1)][0]+\":\"+\" \"+str(np.max(sentiment)))"
      ],
      "execution_count": 45,
      "outputs": [
        {
          "output_type": "stream",
          "text": [
            "Requirement already satisfied: google_trans_new in /usr/local/lib/python3.6/dist-packages (1.1.9)\n",
            "checkavailablebalanceand validity: 0.9995435\n"
          ],
          "name": "stdout"
        }
      ]
    },
    {
      "cell_type": "code",
      "metadata": {
        "colab": {
          "base_uri": "https://localhost:8080/"
        },
        "id": "5Dnp8Ufp3afd",
        "outputId": "88176211-3078-417a-8bf7-b39a5a5a0259"
      },
      "source": [
        "len(tokenizer.word_index)"
      ],
      "execution_count": null,
      "outputs": [
        {
          "output_type": "execute_result",
          "data": {
            "text/plain": [
              "3963"
            ]
          },
          "metadata": {
            "tags": []
          },
          "execution_count": 21
        }
      ]
    },
    {
      "cell_type": "code",
      "metadata": {
        "colab": {
          "base_uri": "https://localhost:8080/",
          "height": 35
        },
        "id": "ZamUIg5BvOEC",
        "outputId": "d23f87db-415b-4a77-a827-437f7c7bd416"
      },
      "source": [
        "twt = 'internet kivabe kinte hoy'\r\n",
        "twt=translator.translate(twt,lang_tgt='en')\r\n",
        "twt"
      ],
      "execution_count": null,
      "outputs": [
        {
          "output_type": "execute_result",
          "data": {
            "application/vnd.google.colaboratory.intrinsic+json": {
              "type": "string"
            },
            "text/plain": [
              "'How to buy internet '"
            ]
          },
          "metadata": {
            "tags": []
          },
          "execution_count": 24
        }
      ]
    },
    {
      "cell_type": "code",
      "metadata": {
        "colab": {
          "base_uri": "https://localhost:8080/",
          "height": 415
        },
        "id": "E4jbZw5_ipu9",
        "outputId": "40d57980-9f72-430a-e1cd-b04bced7afcc"
      },
      "source": [
        "data"
      ],
      "execution_count": null,
      "outputs": [
        {
          "output_type": "execute_result",
          "data": {
            "text/html": [
              "<div>\n",
              "<style scoped>\n",
              "    .dataframe tbody tr th:only-of-type {\n",
              "        vertical-align: middle;\n",
              "    }\n",
              "\n",
              "    .dataframe tbody tr th {\n",
              "        vertical-align: top;\n",
              "    }\n",
              "\n",
              "    .dataframe thead th {\n",
              "        text-align: right;\n",
              "    }\n",
              "</style>\n",
              "<table border=\"1\" class=\"dataframe\">\n",
              "  <thead>\n",
              "    <tr style=\"text-align: right;\">\n",
              "      <th></th>\n",
              "      <th>Intent</th>\n",
              "      <th>Text</th>\n",
              "      <th>PRED</th>\n",
              "    </tr>\n",
              "  </thead>\n",
              "  <tbody>\n",
              "    <tr>\n",
              "      <th>0</th>\n",
              "      <td>checkavailablebalanceand validity</td>\n",
              "      <td>How much money is in my account?</td>\n",
              "      <td>checkavailablebalanceand validity</td>\n",
              "    </tr>\n",
              "    <tr>\n",
              "      <th>1</th>\n",
              "      <td>checkavailablebalanceand validity</td>\n",
              "      <td>How do I view the account balance?</td>\n",
              "      <td>checkavailablebalanceand validity</td>\n",
              "    </tr>\n",
              "    <tr>\n",
              "      <th>2</th>\n",
              "      <td>checkavailablebalanceand validity</td>\n",
              "      <td>How much money do I have in balance?</td>\n",
              "      <td>checkavailablebalanceand validity</td>\n",
              "    </tr>\n",
              "    <tr>\n",
              "      <th>3</th>\n",
              "      <td>checkavailablebalanceand validity</td>\n",
              "      <td>How much money do I have?</td>\n",
              "      <td>checkavailablebalanceand validity</td>\n",
              "    </tr>\n",
              "    <tr>\n",
              "      <th>4</th>\n",
              "      <td>checkavailablebalanceand validity</td>\n",
              "      <td>Account is the balance ball</td>\n",
              "      <td>checkavailablebalanceand validity</td>\n",
              "    </tr>\n",
              "    <tr>\n",
              "      <th>...</th>\n",
              "      <td>...</td>\n",
              "      <td>...</td>\n",
              "      <td>...</td>\n",
              "    </tr>\n",
              "    <tr>\n",
              "      <th>88630</th>\n",
              "      <td>MicroVoiceOfferInfo</td>\n",
              "      <td>What special minit offer there in my number</td>\n",
              "      <td>MicroVoiceOfferInfo</td>\n",
              "    </tr>\n",
              "    <tr>\n",
              "      <th>88631</th>\n",
              "      <td>MicroVoiceOfferInfo</td>\n",
              "      <td>Any minute offer are in my number</td>\n",
              "      <td>MicroVoiceOfferInfo</td>\n",
              "    </tr>\n",
              "    <tr>\n",
              "      <th>88632</th>\n",
              "      <td>MicroVoiceOfferInfo</td>\n",
              "      <td>Inform me about my minit offer in this number</td>\n",
              "      <td>MicroVoiceOfferInfo</td>\n",
              "    </tr>\n",
              "    <tr>\n",
              "      <th>88633</th>\n",
              "      <td>MicroVoiceOfferInfo</td>\n",
              "      <td>Which menit offer are available in my number</td>\n",
              "      <td>MicroVoiceOfferInfo</td>\n",
              "    </tr>\n",
              "    <tr>\n",
              "      <th>88634</th>\n",
              "      <td>MicroVoiceOfferInfo</td>\n",
              "      <td>in this number any minute offer available?</td>\n",
              "      <td>MicroVoiceOfferInfo</td>\n",
              "    </tr>\n",
              "  </tbody>\n",
              "</table>\n",
              "<p>88635 rows × 3 columns</p>\n",
              "</div>"
            ],
            "text/plain": [
              "                                  Intent  \\\n",
              "0      checkavailablebalanceand validity   \n",
              "1      checkavailablebalanceand validity   \n",
              "2      checkavailablebalanceand validity   \n",
              "3      checkavailablebalanceand validity   \n",
              "4      checkavailablebalanceand validity   \n",
              "...                                  ...   \n",
              "88630                MicroVoiceOfferInfo   \n",
              "88631                MicroVoiceOfferInfo   \n",
              "88632                MicroVoiceOfferInfo   \n",
              "88633                MicroVoiceOfferInfo   \n",
              "88634                MicroVoiceOfferInfo   \n",
              "\n",
              "                                                 Text  \\\n",
              "0                   How much money is in my account?    \n",
              "1                 How do I view the account balance?    \n",
              "2               How much money do I have in balance?    \n",
              "3                          How much money do I have?    \n",
              "4                        Account is the balance ball    \n",
              "...                                               ...   \n",
              "88630    What special minit offer there in my number    \n",
              "88631              Any minute offer are in my number    \n",
              "88632  Inform me about my minit offer in this number    \n",
              "88633   Which menit offer are available in my number    \n",
              "88634     in this number any minute offer available?    \n",
              "\n",
              "                                    PRED  \n",
              "0      checkavailablebalanceand validity  \n",
              "1      checkavailablebalanceand validity  \n",
              "2      checkavailablebalanceand validity  \n",
              "3      checkavailablebalanceand validity  \n",
              "4      checkavailablebalanceand validity  \n",
              "...                                  ...  \n",
              "88630                MicroVoiceOfferInfo  \n",
              "88631                MicroVoiceOfferInfo  \n",
              "88632                MicroVoiceOfferInfo  \n",
              "88633                MicroVoiceOfferInfo  \n",
              "88634                MicroVoiceOfferInfo  \n",
              "\n",
              "[88635 rows x 3 columns]"
            ]
          },
          "metadata": {
            "tags": []
          },
          "execution_count": 33
        }
      ]
    },
    {
      "cell_type": "code",
      "metadata": {
        "id": "DGm8ONWfDB6J"
      },
      "source": [
        "# text=\" 10 \".join(data.iloc[:,0])\r\n",
        "# #!pip install google_trans_new\r\n",
        "# l=4500\r\n",
        "# from google_trans_new import google_translator  \r\n",
        "# translator = google_translator() \r\n",
        "# t=[]\r\n",
        "# for i in range(20):\r\n",
        "#   t.append(translator.translate(text[(i*l):(i+1)*l],lang_tgt='en'))"
      ],
      "execution_count": null,
      "outputs": []
    },
    {
      "cell_type": "code",
      "metadata": {
        "colab": {
          "base_uri": "https://localhost:8080/"
        },
        "id": "uRvZ00R7F4WB",
        "outputId": "f92461dc-d1e7-4ed0-ea03-834f00304c06"
      },
      "source": [
        "!pip install punkt"
      ],
      "execution_count": null,
      "outputs": [
        {
          "output_type": "stream",
          "text": [
            "\u001b[31mERROR: Could not find a version that satisfies the requirement punkt (from versions: none)\u001b[0m\n",
            "\u001b[31mERROR: No matching distribution found for punkt\u001b[0m\n"
          ],
          "name": "stdout"
        }
      ]
    },
    {
      "cell_type": "code",
      "metadata": {
        "colab": {
          "base_uri": "https://localhost:8080/",
          "height": 35
        },
        "id": "X86ZqRePFGJq",
        "outputId": "e92576c3-b323-4b62-95a4-b3aa72b46133"
      },
      "source": [
        "translator.translate('আমি বাংলায় গান গাই',lang_tgt='en')"
      ],
      "execution_count": null,
      "outputs": [
        {
          "output_type": "execute_result",
          "data": {
            "application/vnd.google.colaboratory.intrinsic+json": {
              "type": "string"
            },
            "text/plain": [
              "'I sing in Bengali '"
            ]
          },
          "metadata": {
            "tags": []
          },
          "execution_count": 57
        }
      ]
    },
    {
      "cell_type": "markdown",
      "metadata": {
        "id": "nQ515IVhWbmA"
      },
      "source": [
        "# Convert all text to English"
      ]
    },
    {
      "cell_type": "code",
      "metadata": {
        "id": "Op3NA-aZnAhL"
      },
      "source": [
        "#!pip install google_trans_new\r\n",
        "\r\n",
        "from google_trans_new import google_translator  \r\n",
        "translator = google_translator()  \r\n",
        "trans=[]\r\n",
        "l=0\r\n",
        "for i in data.iloc[:,0]:\r\n",
        "  trans.append(translator.translate(i,lang_tgt='en')) \r\n",
        "  l=l+1 \r\n",
        "  print(l)"
      ],
      "execution_count": null,
      "outputs": []
    },
    {
      "cell_type": "code",
      "metadata": {
        "id": "eGJpLDd0HZ1v"
      },
      "source": [
        "pd.concat([data,pd.DataFrame(trans)],axis=1).to_excel(\"/content/drive/MyDrive/to_english.xlsx\")"
      ],
      "execution_count": null,
      "outputs": []
    },
    {
      "cell_type": "code",
      "metadata": {
        "id": "rp6fUDM9QCip"
      },
      "source": [
        "pd.DataFrame(trans).to_excel(\"/content/drive/MyDrive/to_english.xlsx\")"
      ],
      "execution_count": null,
      "outputs": []
    },
    {
      "cell_type": "markdown",
      "metadata": {
        "id": "CYuzrghwDbvV"
      },
      "source": [
        "# Tokenizer"
      ]
    },
    {
      "cell_type": "code",
      "metadata": {
        "colab": {
          "base_uri": "https://localhost:8080/"
        },
        "id": "kZMVGnmpDWns",
        "outputId": "d7efdc20-d8fd-4d15-bb05-a539cd83bb44"
      },
      "source": [
        "from bnlp import BasicTokenizer\n",
        "basic_t = BasicTokenizer()\n",
        "raw_text = \"আমি বাংলায় গান গাই।\"\n",
        "tokens = basic_t.tokenize(raw_text)\n",
        "print(tokens)\n",
        "\n",
        "# output: [\"আমি\", \"বাংলায়\", \"গান\", \"গাই\", \"।\"]"
      ],
      "execution_count": null,
      "outputs": [
        {
          "output_type": "stream",
          "text": [
            "punkt not found. downloading...\n",
            "[nltk_data] Downloading package punkt to /root/nltk_data...\n",
            "[nltk_data]   Unzipping tokenizers/punkt.zip.\n",
            "['আমি', 'বাংলায়', 'গান', 'গাই', '।']\n"
          ],
          "name": "stdout"
        }
      ]
    },
    {
      "cell_type": "code",
      "metadata": {
        "colab": {
          "base_uri": "https://localhost:8080/"
        },
        "id": "-9q_CfsADpK_",
        "outputId": "f94317d0-9280-4113-b191-13a67aa48c39"
      },
      "source": [
        "from bnlp import NLTKTokenizer\n",
        "\n",
        "bnltk = NLTKTokenizer()\n",
        "\n",
        "text = \"আমি ভাত খাই। সে বাজারে যায়। তিনি কি সত্যিই ভালো মানুষ?\"\n",
        "\n",
        "word_tokens = bnltk.word_tokenize(text)\n",
        "sentence_tokens = bnltk.sentence_tokenize(text)\n",
        "print(word_tokens)\n",
        "print(sentence_tokens)"
      ],
      "execution_count": null,
      "outputs": [
        {
          "output_type": "stream",
          "text": [
            "['আমি', 'ভাত', 'খাই', '।', 'সে', 'বাজারে', 'যায়', '।', 'তিনি', 'কি', 'সত্যিই', 'ভালো', 'মানুষ', '?']\n",
            "['আমি ভাত খাই।', 'সে বাজারে যায়।', 'তিনি কি সত্যিই ভালো মানুষ?']\n"
          ],
          "name": "stdout"
        }
      ]
    },
    {
      "cell_type": "markdown",
      "metadata": {
        "id": "dS1K9nyLEgYJ"
      },
      "source": [
        "# STOP words"
      ]
    },
    {
      "cell_type": "code",
      "metadata": {
        "colab": {
          "base_uri": "https://localhost:8080/"
        },
        "id": "Ukmu_wABElCV",
        "outputId": "bc5d540b-f301-4f81-f1e0-2a07ff0e55b5"
      },
      "source": [
        "from bnlp.corpus import stopwords,punctuations\n",
        "from bnlp.corpus.util import remove_stopwords\n",
        "\n",
        "# remove stop words\n",
        "stopwords = stopwords()\n",
        "raw_text = 'আমি ভাত খাই।'\n",
        "result = remove_stopwords(raw_text, stopwords)\n",
        "print(result)\n",
        "# remove punctuations\n",
        "final_result = remove_stopwords(raw_text, punctuations)\n",
        "print(final_result)"
      ],
      "execution_count": null,
      "outputs": [
        {
          "output_type": "stream",
          "text": [
            "['ভাত', 'খাই', '।']\n",
            "['আমি', 'ভাত', 'খাই']\n"
          ],
          "name": "stdout"
        }
      ]
    },
    {
      "cell_type": "code",
      "metadata": {
        "colab": {
          "base_uri": "https://localhost:8080/"
        },
        "id": "zVbw_so2GbUC",
        "outputId": "2276ced4-dc01-497c-eb9f-f9495cc3e602"
      },
      "source": [
        "from bnlp import BengaliGlove\n",
        "\n",
        "bng = BengaliGlove()\n",
        "glove_path = \"/content/drive/MyDrive/bn_glove.39M.300d.txt\"\n",
        "word = \"গ্রাম\"\n",
        "# res = bng.closest_word(glove_path, word)\n",
        "# print(res)\n",
        "vec = bng.word2vec(glove_path, word)\n"
      ],
      "execution_count": null,
      "outputs": [
        {
          "output_type": "execute_result",
          "data": {
            "text/plain": [
              "300"
            ]
          },
          "metadata": {
            "tags": []
          },
          "execution_count": 32
        }
      ]
    },
    {
      "cell_type": "code",
      "metadata": {
        "colab": {
          "base_uri": "https://localhost:8080/"
        },
        "id": "VlUjwf6TNU4h",
        "outputId": "d4b2be97-eacf-46dc-cc7a-46dc17500e4f"
      },
      "source": [
        "!pip install langdetect"
      ],
      "execution_count": null,
      "outputs": [
        {
          "output_type": "stream",
          "text": [
            "Collecting langdetect\n",
            "\u001b[?25l  Downloading https://files.pythonhosted.org/packages/56/a3/8407c1e62d5980188b4acc45ef3d94b933d14a2ebc9ef3505f22cf772570/langdetect-1.0.8.tar.gz (981kB)\n",
            "\r\u001b[K     |▍                               | 10kB 16.6MB/s eta 0:00:01\r\u001b[K     |▊                               | 20kB 22.2MB/s eta 0:00:01\r\u001b[K     |█                               | 30kB 16.8MB/s eta 0:00:01\r\u001b[K     |█▍                              | 40kB 12.1MB/s eta 0:00:01\r\u001b[K     |█▊                              | 51kB 8.0MB/s eta 0:00:01\r\u001b[K     |██                              | 61kB 8.4MB/s eta 0:00:01\r\u001b[K     |██▍                             | 71kB 8.7MB/s eta 0:00:01\r\u001b[K     |██▊                             | 81kB 8.8MB/s eta 0:00:01\r\u001b[K     |███                             | 92kB 9.1MB/s eta 0:00:01\r\u001b[K     |███▍                            | 102kB 9.3MB/s eta 0:00:01\r\u001b[K     |███▊                            | 112kB 9.3MB/s eta 0:00:01\r\u001b[K     |████                            | 122kB 9.3MB/s eta 0:00:01\r\u001b[K     |████▍                           | 133kB 9.3MB/s eta 0:00:01\r\u001b[K     |████▊                           | 143kB 9.3MB/s eta 0:00:01\r\u001b[K     |█████                           | 153kB 9.3MB/s eta 0:00:01\r\u001b[K     |█████▍                          | 163kB 9.3MB/s eta 0:00:01\r\u001b[K     |█████▊                          | 174kB 9.3MB/s eta 0:00:01\r\u001b[K     |██████                          | 184kB 9.3MB/s eta 0:00:01\r\u001b[K     |██████▍                         | 194kB 9.3MB/s eta 0:00:01\r\u001b[K     |██████▊                         | 204kB 9.3MB/s eta 0:00:01\r\u001b[K     |███████                         | 215kB 9.3MB/s eta 0:00:01\r\u001b[K     |███████▍                        | 225kB 9.3MB/s eta 0:00:01\r\u001b[K     |███████▊                        | 235kB 9.3MB/s eta 0:00:01\r\u001b[K     |████████                        | 245kB 9.3MB/s eta 0:00:01\r\u001b[K     |████████▍                       | 256kB 9.3MB/s eta 0:00:01\r\u001b[K     |████████▊                       | 266kB 9.3MB/s eta 0:00:01\r\u001b[K     |█████████                       | 276kB 9.3MB/s eta 0:00:01\r\u001b[K     |█████████▍                      | 286kB 9.3MB/s eta 0:00:01\r\u001b[K     |█████████▊                      | 296kB 9.3MB/s eta 0:00:01\r\u001b[K     |██████████                      | 307kB 9.3MB/s eta 0:00:01\r\u001b[K     |██████████▍                     | 317kB 9.3MB/s eta 0:00:01\r\u001b[K     |██████████▊                     | 327kB 9.3MB/s eta 0:00:01\r\u001b[K     |███████████                     | 337kB 9.3MB/s eta 0:00:01\r\u001b[K     |███████████▍                    | 348kB 9.3MB/s eta 0:00:01\r\u001b[K     |███████████▊                    | 358kB 9.3MB/s eta 0:00:01\r\u001b[K     |████████████                    | 368kB 9.3MB/s eta 0:00:01\r\u001b[K     |████████████▍                   | 378kB 9.3MB/s eta 0:00:01\r\u001b[K     |████████████▊                   | 389kB 9.3MB/s eta 0:00:01\r\u001b[K     |█████████████                   | 399kB 9.3MB/s eta 0:00:01\r\u001b[K     |█████████████▍                  | 409kB 9.3MB/s eta 0:00:01\r\u001b[K     |█████████████▊                  | 419kB 9.3MB/s eta 0:00:01\r\u001b[K     |██████████████                  | 430kB 9.3MB/s eta 0:00:01\r\u001b[K     |██████████████▍                 | 440kB 9.3MB/s eta 0:00:01\r\u001b[K     |██████████████▊                 | 450kB 9.3MB/s eta 0:00:01\r\u001b[K     |███████████████                 | 460kB 9.3MB/s eta 0:00:01\r\u001b[K     |███████████████▍                | 471kB 9.3MB/s eta 0:00:01\r\u001b[K     |███████████████▊                | 481kB 9.3MB/s eta 0:00:01\r\u001b[K     |████████████████                | 491kB 9.3MB/s eta 0:00:01\r\u001b[K     |████████████████▍               | 501kB 9.3MB/s eta 0:00:01\r\u001b[K     |████████████████▊               | 512kB 9.3MB/s eta 0:00:01\r\u001b[K     |█████████████████               | 522kB 9.3MB/s eta 0:00:01\r\u001b[K     |█████████████████▍              | 532kB 9.3MB/s eta 0:00:01\r\u001b[K     |█████████████████▊              | 542kB 9.3MB/s eta 0:00:01\r\u001b[K     |██████████████████              | 552kB 9.3MB/s eta 0:00:01\r\u001b[K     |██████████████████▍             | 563kB 9.3MB/s eta 0:00:01\r\u001b[K     |██████████████████▊             | 573kB 9.3MB/s eta 0:00:01\r\u001b[K     |███████████████████             | 583kB 9.3MB/s eta 0:00:01\r\u001b[K     |███████████████████▍            | 593kB 9.3MB/s eta 0:00:01\r\u001b[K     |███████████████████▊            | 604kB 9.3MB/s eta 0:00:01\r\u001b[K     |████████████████████            | 614kB 9.3MB/s eta 0:00:01\r\u001b[K     |████████████████████▍           | 624kB 9.3MB/s eta 0:00:01\r\u001b[K     |████████████████████▊           | 634kB 9.3MB/s eta 0:00:01\r\u001b[K     |█████████████████████           | 645kB 9.3MB/s eta 0:00:01\r\u001b[K     |█████████████████████▍          | 655kB 9.3MB/s eta 0:00:01\r\u001b[K     |█████████████████████▊          | 665kB 9.3MB/s eta 0:00:01\r\u001b[K     |██████████████████████          | 675kB 9.3MB/s eta 0:00:01\r\u001b[K     |██████████████████████▍         | 686kB 9.3MB/s eta 0:00:01\r\u001b[K     |██████████████████████▊         | 696kB 9.3MB/s eta 0:00:01\r\u001b[K     |███████████████████████         | 706kB 9.3MB/s eta 0:00:01\r\u001b[K     |███████████████████████▍        | 716kB 9.3MB/s eta 0:00:01\r\u001b[K     |███████████████████████▊        | 727kB 9.3MB/s eta 0:00:01\r\u001b[K     |████████████████████████        | 737kB 9.3MB/s eta 0:00:01\r\u001b[K     |████████████████████████▍       | 747kB 9.3MB/s eta 0:00:01\r\u001b[K     |████████████████████████▊       | 757kB 9.3MB/s eta 0:00:01\r\u001b[K     |█████████████████████████       | 768kB 9.3MB/s eta 0:00:01\r\u001b[K     |█████████████████████████▍      | 778kB 9.3MB/s eta 0:00:01\r\u001b[K     |█████████████████████████▊      | 788kB 9.3MB/s eta 0:00:01\r\u001b[K     |██████████████████████████      | 798kB 9.3MB/s eta 0:00:01\r\u001b[K     |██████████████████████████▍     | 808kB 9.3MB/s eta 0:00:01\r\u001b[K     |██████████████████████████▊     | 819kB 9.3MB/s eta 0:00:01\r\u001b[K     |███████████████████████████     | 829kB 9.3MB/s eta 0:00:01\r\u001b[K     |███████████████████████████▍    | 839kB 9.3MB/s eta 0:00:01\r\u001b[K     |███████████████████████████▊    | 849kB 9.3MB/s eta 0:00:01\r\u001b[K     |████████████████████████████    | 860kB 9.3MB/s eta 0:00:01\r\u001b[K     |████████████████████████████▍   | 870kB 9.3MB/s eta 0:00:01\r\u001b[K     |████████████████████████████▊   | 880kB 9.3MB/s eta 0:00:01\r\u001b[K     |█████████████████████████████   | 890kB 9.3MB/s eta 0:00:01\r\u001b[K     |█████████████████████████████▍  | 901kB 9.3MB/s eta 0:00:01\r\u001b[K     |█████████████████████████████▊  | 911kB 9.3MB/s eta 0:00:01\r\u001b[K     |██████████████████████████████  | 921kB 9.3MB/s eta 0:00:01\r\u001b[K     |██████████████████████████████▍ | 931kB 9.3MB/s eta 0:00:01\r\u001b[K     |██████████████████████████████▊ | 942kB 9.3MB/s eta 0:00:01\r\u001b[K     |███████████████████████████████ | 952kB 9.3MB/s eta 0:00:01\r\u001b[K     |███████████████████████████████▍| 962kB 9.3MB/s eta 0:00:01\r\u001b[K     |███████████████████████████████▊| 972kB 9.3MB/s eta 0:00:01\r\u001b[K     |████████████████████████████████| 983kB 9.3MB/s \n",
            "\u001b[?25hRequirement already satisfied: six in /usr/local/lib/python3.6/dist-packages (from langdetect) (1.15.0)\n",
            "Building wheels for collected packages: langdetect\n",
            "  Building wheel for langdetect (setup.py) ... \u001b[?25l\u001b[?25hdone\n",
            "  Created wheel for langdetect: filename=langdetect-1.0.8-cp36-none-any.whl size=993193 sha256=b52e9a2a28d218b9dbbf56718e7f48836b2ba16028e14ffdf22b3b1d097533d9\n",
            "  Stored in directory: /root/.cache/pip/wheels/8d/b3/aa/6d99de9f3841d7d3d40a60ea06e6d669e8e5012e6c8b947a57\n",
            "Successfully built langdetect\n",
            "Installing collected packages: langdetect\n",
            "Successfully installed langdetect-1.0.8\n"
          ],
          "name": "stdout"
        }
      ]
    },
    {
      "cell_type": "code",
      "metadata": {
        "colab": {
          "base_uri": "https://localhost:8080/",
          "height": 35
        },
        "id": "7TsZdj7ZeQic",
        "outputId": "08112f82-83bc-40f3-9e39-a09c163dc3b9"
      },
      "source": [
        ">>> from langdetect import detect\r\n",
        ">>> detect(\"এই সেতু শুধু যোগাযোগব্যবস্থা সহজ করবে না\")"
      ],
      "execution_count": null,
      "outputs": [
        {
          "output_type": "execute_result",
          "data": {
            "application/vnd.google.colaboratory.intrinsic+json": {
              "type": "string"
            },
            "text/plain": [
              "'bn'"
            ]
          },
          "metadata": {
            "tags": []
          },
          "execution_count": 3
        }
      ]
    }
  ]
}